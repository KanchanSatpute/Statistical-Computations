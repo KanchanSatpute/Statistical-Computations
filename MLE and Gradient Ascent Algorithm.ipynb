{
 "cells": [
  {
   "cell_type": "markdown",
   "metadata": {},
   "source": [
    "We study Table 13.2 on p 240 of Lange and Chapter 13 question 11 (on page 240) and Chapter 14, Example 14.10.1 on p246.\n",
    "\n",
    "The table contains counts of the number of days a given number of deaths occurred. "
   ]
  },
  {
   "cell_type": "code",
   "execution_count": 1,
   "metadata": {},
   "outputs": [],
   "source": [
    "import numpy as np\n",
    "freq = np.array([162,267,271,185,111,61,27,8,3,1])"
   ]
  },
  {
   "cell_type": "code",
   "execution_count": 2,
   "metadata": {},
   "outputs": [
    {
     "data": {
      "image/png": "[encoded data removed]",
      "text/plain": [
       "<Figure size 432x288 with 1 Axes>"
      ]
     },
     "metadata": {},
     "output_type": "display_data"
    }
   ],
   "source": [
    "%matplotlib inline\n",
    "import matplotlib.pyplot as plt\n",
    "plt.style.use('seaborn-whitegrid')\n",
    "\n",
    "## proportion of different number of deaths\n",
    "plt.plot(np.arange(freq.size), freq/np.sum(freq), 'o', color='black')\n",
    "plt.xlabel(\"Number of Deaths\")\n",
    "plt.ylabel(\"Proportion\");"
   ]
  },
  {
   "cell_type": "markdown",
   "metadata": {},
   "source": [
    "## Problem 1\n",
    "\n",
    "Confirm Lange's claim in question 11 that \"A Poisson distribution gives a poor fit to these data . . .\" by computing the MLE of the Poisson parameter $\\lambda$ (this can be done by hand using calculus) and plotting the resulting probability mass function over the observed data. They should be a bit discrepant (thus justifying the claim)."
   ]
  },
  {
   "cell_type": "markdown",
   "metadata": {},
   "source": [
    "The Poisson probability mass function is\n",
    "$$ f(x|\\lambda) = \\frac{e^{-\\lambda}\\lambda^x}{x!}$$\n",
    "\n",
    "The MLE maximizes the log likelihood. The log likelihood for the sample is\n",
    "\\begin{align*}\n",
    "\\log f(\\vec{x}) &= \\log \\prod_{i=1}^n f(x_i|\\lambda)\\\\\n",
    "&= \\sum_{i=1}^n \\log f(x_i|\\lambda)\\\\\n",
    "&= \\sum_{i=1}^n (-\\lambda + x_i\\log \\lambda - \\log x!)\\\\\n",
    "&= -n\\lambda + \\sum_{i=1}^n(x_i) \\log \\lambda - \\sum_{i=1}^n \\log x!\n",
    "\\end{align*}\n",
    "Differentienting, setting equal to $0$, and solving for $\\lambda$, we obtain\n",
    "$$ \\widehat{\\lambda} = \\bar{X} = \\frac{1}{n}\\sum_{i=1}^n X_i $$\n",
    "In other words, the MLE is the sample mean."
   ]
  },
  {
   "cell_type": "code",
   "execution_count": 3,
   "metadata": {},
   "outputs": [],
   "source": [
    "import math as mt"
   ]
  },
  {
   "cell_type": "code",
   "execution_count": 4,
   "metadata": {},
   "outputs": [
    {
     "data": {
      "image/png": "[encoded data removed]",
      "text/plain": [
       "<Figure size 432x288 with 1 Axes>"
      ]
     },
     "metadata": {},
     "output_type": "display_data"
    }
   ],
   "source": [
    "lamda = np.sum(freq*np.arange(freq.size)) / np.sum(freq)\n",
    "pmf = []\n",
    "for i in range(freq.size):\n",
    "    pmf.append(np.exp(-lamda) * (lamda**i) / mt.factorial(i))\n",
    "\n",
    "plt.plot(np.arange(freq.size), freq/np.sum(freq), color='black')\n",
    "plt.plot(np.arange(freq.size), pmf, color='blue')\n",
    "plt.xlabel(\"Number of Deaths\")\n",
    "plt.ylabel(\"Proportion\");"
   ]
  },
  {
   "cell_type": "markdown",
   "metadata": {},
   "source": [
    "## Problem 2\n",
    "\n",
    "Fit the $\\alpha$, $\\mu_1$ and $\\mu_2$ parameters for the mixture of two Poissons model proposed in Question 11. You must write your own fitting code (cannot use `scipy optimize` or R `optim`). You can write any sort of optimizer you like such as gradient ascent, Newton's method (or any of its varients), or an EM approach. Discuss how you select starting parameters and monitor convergence. You can confirm your results by also using Python or R built in optimizers."
   ]
  },
  {
   "cell_type": "markdown",
   "metadata": {},
   "source": [
    "The answer to problem 1 used standard notation for the data i.e. $x_1$ was the number of deaths on day 1. Now we let $n_i = $ number of days with $i$ deaths. So\n",
    "$$n_i = \\sum_j \\mathbb{1}_{X_j=i}$$\n",
    "\n",
    "The likelihood is\n",
    "$$f(\\vec{n}|\\alpha,\\mu_1,\\mu_2) = \\prod_{i=0}^9 \\left(\\underbrace{\\alpha e^{-\\mu_1} \\frac{\\mu_1^i}{i!} + (1-\\alpha)e^{-\\mu_2}\\frac{\\mu_2^i}{i!}}_{\\equiv g_i}\\right)^{n_i}$$\n",
    "\n",
    "So the log likelihood is\n",
    "$$ \\log \\, f = \\sum_{i=0}^9 n_i \\log(g_i) $$\n",
    "\n",
    "The gradient is\n",
    "$$ \\frac{\\partial log f}{\\partial \\alpha} = \\sum_{i=0}^9 \\frac{n_i}{g_i} \\frac{\\partial g_i}{\\partial \\alpha}$$\n",
    "$$ \\frac{\\partial log f}{\\partial \\mu_j} = \\sum_{i=0}^9 \\frac{n_i}{g_i} \\frac{\\partial g_i}{\\partial \\mu_j}$$\n",
    "for $j=1,2$ and where\n",
    "$$\\frac{\\partial g_i}{\\partial \\alpha} = e^{-\\mu_1} \\frac{\\mu_1^i}{i!} - e^{-\\mu_2}\\frac{\\mu_2^i}{i!}$$\n",
    "$$\\frac{\\partial g_i}{\\partial \\mu_1} = -\\alpha e^{-\\mu_1} \\frac{\\mu_1^i}{i!} + \\alpha e^{-\\mu_1} \\frac{\\mu_1^{i-1}\\mathbb{1}_{i > 0}}{(i-1)!}$$\n",
    "$$\\frac{\\partial g_i}{\\partial \\mu_1} = -(1-\\alpha) e^{-\\mu_2} \\frac{\\mu_2^i}{i!} + (1-\\alpha) e^{-\\mu_2} \\frac{\\mu_2^{i-1}\\mathbb{1}_{i > 0}}{(i-1)!}.$$\n",
    "Note the indicator functions. These are important for the second terms in the $\\partial g_i / \\partial \\mu_j$ which are $0$ for $i=0$ (because we are differentiating a constant)."
   ]
  },
  {
   "cell_type": "markdown",
   "metadata": {},
   "source": [
    "We now write functions to implement the log likelihood and gradient."
   ]
  },
  {
   "cell_type": "code",
   "execution_count": 5,
   "metadata": {},
   "outputs": [],
   "source": [
    "import scipy\n",
    "\n",
    "def g(alpha,mu1,mu2,N):\n",
    "    iis = np.arange(N)\n",
    "    iisf = scipy.special.factorial(iis)\n",
    "    return alpha*np.exp(-mu1)*np.power(mu1,iis)/iisf + (1-alpha)*np.exp(-mu2)*np.power(mu2,iis)/iisf\n",
    "\n",
    "## params = alpha, mu1, mu2 1-d array of parameters\n",
    "## n = 1-d array of counts of the number of deaths\n",
    "def log_likelihood(params,n):\n",
    "    return np.sum(n*np.log(g(params[0],params[1],params[2],n.size)))\n",
    "    "
   ]
  },
  {
   "cell_type": "markdown",
   "metadata": {},
   "source": [
    "The gradient is a bit more complicated."
   ]
  },
  {
   "cell_type": "code",
   "execution_count": 6,
   "metadata": {
    "collapsed": true
   },
   "outputs": [],
   "source": [
    "def dgda(mu1,mu2,N):\n",
    "    iis = np.arange(N)\n",
    "    iisf = scipy.special.factorial(iis)\n",
    "    return np.exp(-mu1)*np.power(mu1,iis)/iisf - np.exp(-mu2)*np.power(mu2,iis)/iisf\n",
    "\n",
    "## omits the leading alpha for mu1 and leading (1-alpha) for mu2\n",
    "def dgdmu(mu,N):\n",
    "    iis = np.arange(N)\n",
    "    iisf = scipy.special.factorial(iis)\n",
    "    temp = np.exp(-mu)*np.power(mu,iis[:(N-1)])/iisf[:(N-1)]\n",
    "    return -np.exp(-mu)*np.power(mu,iis)/iisf + np.concatenate((np.zeros(1),temp))\n",
    "\n",
    "## params = alpha, mu1, mu2 1-d array of parameters\n",
    "## n = 1-d array of counts of the number of deaths\n",
    "def gradient_log_likelihood(params,n):\n",
    "    alpha = params[0]\n",
    "    mu1 = params[1]\n",
    "    mu2 = params[2]\n",
    "    N = n.size\n",
    "    nog = n / g(alpha,mu1,mu2,N)\n",
    "    c1 = dgda(mu1,mu2,N)\n",
    "    c2 = alpha*dgdmu(mu1,N)\n",
    "    c3 = (1-alpha)*dgdmu(mu2,N)\n",
    "    return np.array((np.sum(nog*c1),np.sum(nog*c2),np.sum(nog*c3)))"
   ]
  },
  {
   "cell_type": "markdown",
   "metadata": {},
   "source": [
    "We now implement gradient ascent with step halving."
   ]
  },
  {
   "cell_type": "code",
   "execution_count": 7,
   "metadata": {},
   "outputs": [
    {
     "data": {
      "text/plain": [
       "array([ 0.3,  1. ,  2.5])"
      ]
     },
     "execution_count": 7,
     "metadata": {},
     "output_type": "execute_result"
    }
   ],
   "source": [
    "## gradient ascent with step halving\n",
    "Niter = 1000\n",
    "param_initial = np.array((0.3,1.0,2.5))\n",
    "param = np.zeros((Niter+1)*3).reshape(Niter+1,3)\n",
    "param[0,:] = param_initial\n",
    "param[0,:]"
   ]
  },
  {
   "cell_type": "code",
   "execution_count": 8,
   "metadata": {},
   "outputs": [
    {
     "name": "stderr",
     "output_type": "stream",
     "text": [
      "C:\\Users\\Kanchan\\Anaconda3\\lib\\site-packages\\ipykernel_launcher.py:11: RuntimeWarning: invalid value encountered in log\n",
      "  # This is added back by InteractiveShellApp.init_path()\n"
     ]
    }
   ],
   "source": [
    "for ii in np.arange(Niter):\n",
    "    grad = gradient_log_likelihood(param[ii,:],freq)\n",
    "    half = True\n",
    "    while half:\n",
    "        param_temp = param[ii,:] + grad\n",
    "        ## the new likelihood could produce nan because\n",
    "        ## we take the log of a negative number\n",
    "        ## if so, step halve\n",
    "        newlik = log_likelihood(param_temp,freq)\n",
    "        if np.isnan(newlik) or (newlik < log_likelihood(param[ii,:],freq)):\n",
    "            grad = grad / 2\n",
    "        else:\n",
    "            half = False\n",
    "    param[ii+1,:] = param_temp"
   ]
  },
  {
   "cell_type": "code",
   "execution_count": 9,
   "metadata": {},
   "outputs": [
    {
     "data": {
      "text/plain": [
       "array([[ 0.3       ,  1.        ,  2.5       ],\n",
       "       [ 0.22706808,  1.01877166,  2.52908317],\n",
       "       [ 0.25187606,  1.01496951,  2.52085513],\n",
       "       ..., \n",
       "       [ 0.3598852 ,  1.25609473,  2.6634041 ],\n",
       "       [ 0.3598852 ,  1.25609473,  2.6634041 ],\n",
       "       [ 0.3598852 ,  1.25609473,  2.6634041 ]])"
      ]
     },
     "execution_count": 9,
     "metadata": {},
     "output_type": "execute_result"
    }
   ],
   "source": [
    "## looks correct\n",
    "param"
   ]
  },
  {
   "cell_type": "markdown",
   "metadata": {},
   "source": [
    "## Functionalize Gradient Code\n",
    "\n",
    "We now turn gradient code into a function so we can easily plot parameter path from several starting points."
   ]
  },
  {
   "cell_type": "code",
   "execution_count": 10,
   "metadata": {
    "collapsed": true
   },
   "outputs": [],
   "source": [
    "## arguments\n",
    "##        loglike : log likelihood function\n",
    "##       dloglike : gradient (derivative of log likelihood)\n",
    "##  param_initial : initial parameter values for algorithm\n",
    "##              X : data\n",
    "##          Niter : number of iterations\n",
    "##\n",
    "##\n",
    "##    value\n",
    "##       param    :  2-D array with rows giving the parameter values at\n",
    "##                   each iteration\n",
    "##\n",
    "##    note: the function loglike and dloglike must have arguments\n",
    "##          (parameters,data)\n",
    "##          loglike must return a scalar and dloglike must return a 1-D\n",
    "##          np array of length p\n",
    "def gradient_ascent(loglike,dloglike,param_initial,X,Niter):\n",
    "    p = param_initial.size\n",
    "    param = np.zeros((Niter+1)*p).reshape(Niter+1,p)\n",
    "    param[0,:] = param_initial\n",
    "    for ii in np.arange(Niter):\n",
    "        grad = dloglike(param[ii,:],X)\n",
    "        half = True\n",
    "        while half:\n",
    "            param_temp = param[ii,:] + grad\n",
    "            ## the new likelihood could produce nan because\n",
    "            ## we take the log of a negative number\n",
    "            ## if so, step halve\n",
    "            newlik = loglike(param_temp,X)\n",
    "            if np.isnan(newlik) or (newlik < log_likelihood(param[ii,:],X)):\n",
    "                grad = grad / 2\n",
    "            else:\n",
    "                half = False\n",
    "        param[ii+1,:] = param_temp\n",
    "    return param"
   ]
  },
  {
   "cell_type": "markdown",
   "metadata": {},
   "source": [
    "We call function with 3 different starting values."
   ]
  },
  {
   "cell_type": "code",
   "execution_count": 11,
   "metadata": {},
   "outputs": [
    {
     "name": "stderr",
     "output_type": "stream",
     "text": [
      "C:\\Users\\Kanchan\\Anaconda3\\lib\\site-packages\\ipykernel_launcher.py:11: RuntimeWarning: invalid value encountered in log\n",
      "  # This is added back by InteractiveShellApp.init_path()\n"
     ]
    },
    {
     "data": {
      "text/plain": [
       "array([[ 0.3       ,  1.        ,  2.5       ],\n",
       "       [ 0.22706808,  1.01877166,  2.52908317],\n",
       "       [ 0.25187606,  1.01496951,  2.52085513],\n",
       "       ..., \n",
       "       [ 0.3598852 ,  1.25609473,  2.6634041 ],\n",
       "       [ 0.3598852 ,  1.25609473,  2.6634041 ],\n",
       "       [ 0.3598852 ,  1.25609473,  2.6634041 ]])"
      ]
     },
     "execution_count": 11,
     "metadata": {},
     "output_type": "execute_result"
    }
   ],
   "source": [
    "## call function\n",
    "Niter = 1000\n",
    "\n",
    "param_initial = np.array((0.3,1.0,2.5))\n",
    "param1 = gradient_ascent(log_likelihood,gradient_log_likelihood,param_initial,freq,Niter)\n",
    "param1"
   ]
  },
  {
   "cell_type": "code",
   "execution_count": 12,
   "metadata": {},
   "outputs": [
    {
     "name": "stderr",
     "output_type": "stream",
     "text": [
      "C:\\Users\\Kanchan\\Anaconda3\\lib\\site-packages\\ipykernel_launcher.py:11: RuntimeWarning: invalid value encountered in log\n",
      "  # This is added back by InteractiveShellApp.init_path()\n"
     ]
    },
    {
     "data": {
      "text/plain": [
       "array([[ 0.5       ,  0.5       ,  4.1       ],\n",
       "       [ 0.24923513,  0.90173495,  3.95861443],\n",
       "       [ 0.56916043,  0.90473252,  3.86359071],\n",
       "       ..., \n",
       "       [ 0.3598856 ,  1.25609547,  2.66340461],\n",
       "       [ 0.3598856 ,  1.25609547,  2.66340461],\n",
       "       [ 0.3598856 ,  1.25609547,  2.66340461]])"
      ]
     },
     "execution_count": 12,
     "metadata": {},
     "output_type": "execute_result"
    }
   ],
   "source": [
    "param_initial = np.array((0.5,0.5,4.1))\n",
    "param2 = gradient_ascent(log_likelihood,gradient_log_likelihood,param_initial,freq,Niter)\n",
    "param2"
   ]
  },
  {
   "cell_type": "code",
   "execution_count": 13,
   "metadata": {},
   "outputs": [
    {
     "name": "stderr",
     "output_type": "stream",
     "text": [
      "C:\\Users\\Kanchan\\Anaconda3\\lib\\site-packages\\ipykernel_launcher.py:11: RuntimeWarning: divide by zero encountered in log\n",
      "  # This is added back by InteractiveShellApp.init_path()\n",
      "C:\\Users\\Kanchan\\Anaconda3\\lib\\site-packages\\ipykernel_launcher.py:11: RuntimeWarning: invalid value encountered in log\n",
      "  # This is added back by InteractiveShellApp.init_path()\n"
     ]
    },
    {
     "data": {
      "text/plain": [
       "array([[ 0.8       ,  0.1       ,  1.        ],\n",
       "       [-0.07149436,  0.48151832,  1.33857954],\n",
       "       [-0.22943851,  0.47434128,  1.65158431],\n",
       "       ..., \n",
       "       [ 0.35988535,  1.25609502,  2.6634043 ],\n",
       "       [ 0.35988535,  1.25609502,  2.6634043 ],\n",
       "       [ 0.35988535,  1.25609502,  2.6634043 ]])"
      ]
     },
     "execution_count": 13,
     "metadata": {},
     "output_type": "execute_result"
    }
   ],
   "source": [
    "param_initial = np.array((0.8,0.1,1.0))\n",
    "param3 = gradient_ascent(log_likelihood,gradient_log_likelihood,param_initial,freq,Niter)\n",
    "param3"
   ]
  },
  {
   "cell_type": "markdown",
   "metadata": {},
   "source": [
    "### Plot Parameter Paths\n",
    "\n",
    "We plot the $\\mu_1$, $\\mu_2$ parameter paths. You could also plot these paths for $\\alpha$."
   ]
  },
  {
   "cell_type": "code",
   "execution_count": 14,
   "metadata": {},
   "outputs": [],
   "source": [
    "%matplotlib inline\n",
    "import matplotlib.pyplot as plt\n",
    "plt.style.use('ggplot')\n",
    "import numpy as np"
   ]
  },
  {
   "cell_type": "code",
   "execution_count": 15,
   "metadata": {
    "scrolled": true
   },
   "outputs": [
    {
     "data": {
      "image/png": "[encoded data removed]",
      "text/plain": [
       "<matplotlib.figure.Figure at 0x154ef7b89e8>"
      ]
     },
     "metadata": {},
     "output_type": "display_data"
    }
   ],
   "source": [
    "#plt.plot(param1[:,1],param1[:,2])\n",
    "\n",
    "## sequence 1\n",
    "plt.plot(param1[:,1],param1[:,2],color='orange',label=\"Path 1\")\n",
    "plt.plot(param1[Niter,1],param1[Niter,2],'x',color='orange',label=\"Final 1\")\n",
    "plt.plot(param1[0,1],param1[0,2],'o',color='orange',label=\"Initial 1\")\n",
    "## sequence 2\n",
    "plt.plot(param2[:,1],param2[:,2],color='blue',label=\"Path 2\")\n",
    "plt.plot(param2[Niter,1],param2[Niter,2],'x',color='blue',label=\"Final 2\")\n",
    "plt.plot(param2[0,1],param2[0,2],'o',color='blue',label=\"Initial 2\")\n",
    "## sequence 3\n",
    "plt.plot(param3[:,1],param3[:,2],color='red',label=\"Path 3\")\n",
    "plt.plot(param3[Niter,1],param3[Niter,2],'x',color='red',label=\"Final 3\")\n",
    "plt.plot(param3[0,1],param3[0,2],'o',color='red',label=\"Initial 3\")\n",
    "plt.xlabel(\"mu1\")\n",
    "plt.ylabel(\"mu2\")\n",
    "leg = plt.legend(loc='upper left')\n",
    "plt.show()"
   ]
  }
 ],
 "metadata": {
  "kernelspec": {
   "display_name": "Python 3",
   "language": "python",
   "name": "python3"
  },
  "language_info": {
   "codemirror_mode": {
    "name": "ipython",
    "version": 3
   },
   "file_extension": ".py",
   "mimetype": "text/x-python",
   "name": "python",
   "nbconvert_exporter": "python",
   "pygments_lexer": "ipython3",
   "version": "3.6.5"
  }
 },
 "nbformat": 4,
 "nbformat_minor": 1
}
