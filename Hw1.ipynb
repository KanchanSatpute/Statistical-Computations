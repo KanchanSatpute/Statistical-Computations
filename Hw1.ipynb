{
 "cells": [
  {
   "cell_type": "markdown",
   "metadata": {},
   "source": [
    "## Inverse Method for exponentials\n",
    "\n",
    "1. Use the inverse method and the language $Unif[0,1]$ generator (runif in R, numpy.random.uniform in python), to generate random deviates from an exponential distribution with mean $\\mu$. $\\mu$ and the number of random deviates should be arguments to your function. This is Example 22.3.1 in Lange. Be aware that there are two standard methods for parameterizing the exponential.\n",
    "2. For some particular $\\mu$ of your choosing, make a histogram of the random deviates and plot the appropriate exponential density curve on top of the histogram to confirm that the generator is working. Verify that the mean and standard deviation are what they should be.\n",
    "3. Compare the speed of your exponential generator to the language generator (rexp in R, numpy.random.exponential in python). Try to make your generator computationally competitive with the built in generator, by avoiding for loops and other slow code."
   ]
  },
  {
   "cell_type": "code",
   "execution_count": 3,
   "metadata": {
    "collapsed": true
   },
   "outputs": [],
   "source": [
    "myfunc = function(n, mean)\n",
    "    {\n",
    "    U = runif(n, min=0, max=1)\n",
    "    Y = -mean*log(U)\n",
    "    Y\n",
    "}"
   ]
  },
  {
   "cell_type": "code",
   "execution_count": 4,
   "metadata": {},
   "outputs": [
    {
     "data": {
      "text/html": [
       "4.90380111016211"
      ],
      "text/latex": [
       "4.90380111016211"
      ],
      "text/markdown": [
       "4.90380111016211"
      ],
      "text/plain": [
       "[1] 4.903801"
      ]
     },
     "metadata": {},
     "output_type": "display_data"
    },
    {
     "data": {
      "text/html": [
       "4.83840641573846"
      ],
      "text/latex": [
       "4.83840641573846"
      ],
      "text/markdown": [
       "4.83840641573846"
      ],
      "text/plain": [
       "[1] 4.838406"
      ]
     },
     "metadata": {},
     "output_type": "display_data"
    },
    {
     "data": {
      "image/png": "[encoded data removed]",
      "text/plain": [
       "Plot with title \"Histogram of X\""
      ]
     },
     "metadata": {},
     "output_type": "display_data"
    }
   ],
   "source": [
    "X = myfunc(1000, 5)\n",
    "mean(X)\n",
    "sd(X)\n",
    "hist(X, breaks = 30, probability = TRUE)\n",
    "lines(density(X), col = \"red\", lwd = 1.5)\n"
   ]
  },
  {
   "cell_type": "code",
   "execution_count": 5,
   "metadata": {},
   "outputs": [
    {
     "name": "stderr",
     "output_type": "stream",
     "text": [
      "Installing package into 'C:/Users/Kanchan/Documents/R/win-library/3.4'\n",
      "(as 'lib' is unspecified)\n",
      "Warning message:\n",
      "\"package 'microbenchmark' is in use and will not be installed\""
     ]
    }
   ],
   "source": [
    "install.packages('microbenchmark', repos='http://cran.us.r-project.org')\n"
   ]
  },
  {
   "cell_type": "code",
   "execution_count": 6,
   "metadata": {},
   "outputs": [
    {
     "data": {
      "text/plain": [
       "Time difference of 0.007999897 secs"
      ]
     },
     "metadata": {},
     "output_type": "display_data"
    }
   ],
   "source": [
    "library(microbenchmark)\n",
    "start = Sys.time()\n",
    "Y = myfunc(1000, 5)\n",
    "end = Sys.time()\n",
    "end - start"
   ]
  },
  {
   "cell_type": "code",
   "execution_count": 7,
   "metadata": {},
   "outputs": [
    {
     "data": {
      "text/plain": [
       "Time difference of 0.001003981 secs"
      ]
     },
     "metadata": {},
     "output_type": "display_data"
    }
   ],
   "source": [
    "st = Sys.time()\n",
    "Z = rexp(1000, 1/5)\n",
    "end = Sys.time()\n",
    "end - st"
   ]
  },
  {
   "cell_type": "markdown",
   "metadata": {},
   "source": [
    "## Simulation Study of the LLN and CLT\n",
    "\n",
    "1. Create a $n \\times p$ matrix $X$ with $n=100$ and $p=1000$ and each entry $1$ with probability $0.5$ and $0$ with probability $0.5$. If you would like some intuition for this simulation consider this: Suppose 1/2 of all voters support proposition A. We conduct 100 surveys (number of rows of X) each with 1000 voters (number of columns = sample size of poll). A voter responds 1 if they support A, 0 if they do not support A. Note on Confusing Notation: The sample size of each poll is $p$. Usually $n$ is sample size.\n",
    "2. Compute the running mean of each row of $X$ to produce a new matrix $Y$ which is again $100 \\times 1000$. Specifically the row $i$, column $j$ entry of $Y$ is\n",
    "$$Y_{ij} = \\frac{1}{j} \\sum_{k=1}^j X_{ik}$$\n",
    "Try to avoid using nested for loops.\n",
    "3. Plot each row of $Y$ (on the y--axis) against the column number (on the x--axis). This will result in 1 plot with 100 lines. Then make three histograms 1) first column of $Y$, 2) 10th column of $Y$, and 3) the last column of $Y$. Your images should roughly look like what is below. (If you want to make the results clearer and prettier, draw all histograms or density estimators on top of each other with different colors, see lecture notes from the first class [here](https://longjp.github.io/statcomp/lectures/00intro.ipynb) for how to do this with ggplot in R or [here](https://jakevdp.github.io/PythonDataScienceHandbook/04.05-histograms-and-binnings.html) for code in python from VanderPlas) What is this simulation showing?"
   ]
  },
  {
   "cell_type": "markdown",
   "metadata": {},
   "source": [
    "(requires internet connection to view)\n",
    "\n",
    "<img src=\"https://longjp.github.io/statcomp/hw/lln_plot.png\">\n"
   ]
  },
  {
   "cell_type": "markdown",
   "metadata": {
    "collapsed": true
   },
   "source": [
    "(requires internet connection to view)\n",
    "\n",
    "<img src=\"https://longjp.github.io/statcomp/hw/clt_histograms.png\">\n"
   ]
  },
  {
   "cell_type": "code",
   "execution_count": 6,
   "metadata": {},
   "outputs": [
    {
     "name": "stderr",
     "output_type": "stream",
     "text": [
      "Installing package into 'C:/Users/Kanchan/Documents/R/win-library/3.4'\n",
      "(as 'lib' is unspecified)\n"
     ]
    },
    {
     "name": "stdout",
     "output_type": "stream",
     "text": [
      "package 'Rlab' successfully unpacked and MD5 sums checked\n",
      "\n",
      "The downloaded binary packages are in\n",
      "\tC:\\Users\\Kanchan\\AppData\\Local\\Temp\\RtmpA5lyYx\\downloaded_packages\n"
     ]
    }
   ],
   "source": [
    "install.packages('Rlab', repos='http://cran.us.r-project.org')"
   ]
  },
  {
   "cell_type": "code",
   "execution_count": 7,
   "metadata": {},
   "outputs": [
    {
     "name": "stderr",
     "output_type": "stream",
     "text": [
      "Rlab 2.15.1 attached.\n",
      "\n",
      "\n",
      "Attaching package: 'Rlab'\n",
      "\n",
      "The following objects are masked from 'package:stats':\n",
      "\n",
      "    dexp, dgamma, dweibull, pexp, pgamma, pweibull, qexp, qgamma,\n",
      "    qweibull, rexp, rgamma, rweibull\n",
      "\n",
      "The following object is masked from 'package:datasets':\n",
      "\n",
      "    precip\n",
      "\n"
     ]
    }
   ],
   "source": [
    "library(Rlab)"
   ]
  },
  {
   "cell_type": "code",
   "execution_count": 8,
   "metadata": {},
   "outputs": [
    {
     "name": "stderr",
     "output_type": "stream",
     "text": [
      "Warning message:\n",
      "\"package 'repr' was built under R version 3.4.3\""
     ]
    }
   ],
   "source": [
    "library(repr)\n"
   ]
  },
  {
   "cell_type": "code",
   "execution_count": 16,
   "metadata": {},
   "outputs": [
    {
     "name": "stdout",
     "output_type": "stream",
     "text": [
      "      [,1] [,2] [,3] [,4] [,5] [,6] [,7] [,8] [,9] [,10] [,11] [,12]\n",
      " [1,]    1    1    0    0    0    1    0    0    1     1     1     1\n",
      " [2,]    0    0    1    0    0    0    1    0    0     0     0     0\n",
      " [3,]    1    0    1    0    0    1    0    1    0     0     0     0\n",
      " [4,]    1    1    1    1    0    0    0    0    0     0     0     1\n",
      " [5,]    0    0    0    0    0    1    1    0    0     1     0     0\n",
      " [6,]    1    1    1    1    0    0    1    0    1     0     0     0\n",
      " [7,]    1    0    0    0    1    0    0    1    0     1     1     1\n",
      " [8,]    0    0    1    1    0    0    0    0    1     0     0     1\n",
      " [9,]    0    0    1    0    1    1    1    1    0     1     0     0\n",
      "[10,]    1    1    1    0    0    1    0    1    1     0     1     1\n",
      "[11,]    0    0    0    1    1    1    1    1    0     0     1     1\n",
      "[12,]    1    0    0    1    0    0    0    0    0     0     1     0\n",
      "[13,]    0    1    0    0    0    0    1    1    1     0     0     0\n",
      "[14,]    0    0    1    1    0    0    0    1    1     0     1     0\n",
      "[15,]    0    0    0    0    1    0    1    0    1     0     0     1\n",
      "[16,]    0    0    1    1    0    1    1    0    1     0     0     0\n",
      "[17,]    0    1    0    1    1    1    1    1    1     0     0     1\n",
      "[18,]    1    1    0    0    0    1    1    1    1     1     0     0\n",
      "[19,]    1    0    0    1    0    0    0    0    0     1     0     0\n",
      "[20,]    1    1    0    1    0    0    1    0    1     0     1     0\n"
     ]
    }
   ],
   "source": [
    "X = matrix(rbern(100000, 0.5), nrow = 100, ncol = 1000)\n",
    "print(X[1:20, 1:12])\n",
    "options(repr.matrix.max.cols=12, repr.matrix.max.rows=100)"
   ]
  },
  {
   "cell_type": "code",
   "execution_count": 17,
   "metadata": {},
   "outputs": [
    {
     "name": "stdout",
     "output_type": "stream",
     "text": [
      "      [,1] [,2]      [,3] [,4] [,5]      [,6]      [,7]  [,8]      [,9] [,10]\n",
      " [1,]    1  1.0 0.6666667 0.50  0.4 0.5000000 0.4285714 0.375 0.4444444   0.5\n",
      " [2,]    0  0.0 0.3333333 0.25  0.2 0.1666667 0.2857143 0.250 0.2222222   0.2\n",
      " [3,]    1  0.5 0.6666667 0.50  0.4 0.5000000 0.4285714 0.500 0.4444444   0.4\n",
      " [4,]    1  1.0 1.0000000 1.00  0.8 0.6666667 0.5714286 0.500 0.4444444   0.4\n",
      " [5,]    0  0.0 0.0000000 0.00  0.0 0.1666667 0.2857143 0.250 0.2222222   0.3\n",
      " [6,]    1  1.0 1.0000000 1.00  0.8 0.6666667 0.7142857 0.625 0.6666667   0.6\n",
      " [7,]    1  0.5 0.3333333 0.25  0.4 0.3333333 0.2857143 0.375 0.3333333   0.4\n",
      " [8,]    0  0.0 0.3333333 0.50  0.4 0.3333333 0.2857143 0.250 0.3333333   0.3\n",
      " [9,]    0  0.0 0.3333333 0.25  0.4 0.5000000 0.5714286 0.625 0.5555556   0.6\n",
      "[10,]    1  1.0 1.0000000 0.75  0.6 0.6666667 0.5714286 0.625 0.6666667   0.6\n",
      "[11,]    0  0.0 0.0000000 0.25  0.4 0.5000000 0.5714286 0.625 0.5555556   0.5\n",
      "[12,]    1  0.5 0.3333333 0.50  0.4 0.3333333 0.2857143 0.250 0.2222222   0.2\n",
      "[13,]    0  0.5 0.3333333 0.25  0.2 0.1666667 0.2857143 0.375 0.4444444   0.4\n",
      "[14,]    0  0.0 0.3333333 0.50  0.4 0.3333333 0.2857143 0.375 0.4444444   0.4\n",
      "[15,]    0  0.0 0.0000000 0.00  0.2 0.1666667 0.2857143 0.250 0.3333333   0.3\n",
      "[16,]    0  0.0 0.3333333 0.50  0.4 0.5000000 0.5714286 0.500 0.5555556   0.5\n",
      "[17,]    0  0.5 0.3333333 0.50  0.6 0.6666667 0.7142857 0.750 0.7777778   0.7\n",
      "[18,]    1  1.0 0.6666667 0.50  0.4 0.5000000 0.5714286 0.625 0.6666667   0.7\n",
      "[19,]    1  0.5 0.3333333 0.50  0.4 0.3333333 0.2857143 0.250 0.2222222   0.3\n",
      "[20,]    1  1.0 0.6666667 0.75  0.6 0.5000000 0.5714286 0.500 0.5555556   0.5\n"
     ]
    }
   ],
   "source": [
    "Y=matrix(0,nrow=100,ncol=1000)\n",
    "for (i in 1:nrow(X))\n",
    "{\n",
    "Y[i,]=cumsum(X[i,])/seq(along=(Y[i,]))\n",
    "}\n",
    "print(Y[1:20, 1:10])"
   ]
  },
  {
   "cell_type": "code",
   "execution_count": 18,
   "metadata": {
    "collapsed": true
   },
   "outputs": [],
   "source": [
    "library(ggplot2)"
   ]
  },
  {
   "cell_type": "code",
   "execution_count": 19,
   "metadata": {},
   "outputs": [
    {
     "name": "stderr",
     "output_type": "stream",
     "text": [
      "Installing package into 'C:/Users/Kanchan/Documents/R/win-library/3.4'\n",
      "(as 'lib' is unspecified)\n",
      "Warning message:\n",
      "\"package 'gridExtra' is in use and will not be installed\""
     ]
    }
   ],
   "source": [
    "install.packages('gridExtra', repos='http://cran.us.r-project.org')"
   ]
  },
  {
   "cell_type": "code",
   "execution_count": 20,
   "metadata": {
    "collapsed": true
   },
   "outputs": [],
   "source": [
    "library(gridExtra)"
   ]
  },
  {
   "cell_type": "code",
   "execution_count": 21,
   "metadata": {},
   "outputs": [
    {
     "data": {
      "image/png": "[encoded data removed]",
      "text/plain": [
       "plot without title"
      ]
     },
     "metadata": {},
     "output_type": "display_data"
    }
   ],
   "source": [
    "options(repr.plot.width=5, repr.plot.height=5)\n",
    "plot(c(1:1000), Y[1,], col=\"black\", xlab=\"Survey size\", ylab=\"Proportion Suporting\",\n",
    "     asp = 800, yaxs = \"i\", ylim = c(0,1), xaxs = \"i\")\n",
    "for(i in 2: nrow(Y))\n",
    "{\n",
    "points(c(1:1000), Y[i,], type=\"l\", col=\"black\")\n",
    "}"
   ]
  },
  {
   "cell_type": "code",
   "execution_count": 22,
   "metadata": {},
   "outputs": [
    {
     "data": {
      "image/png": "[encoded data removed]",
      "text/plain": [
       "Plot with title \"Sample size 1000\""
      ]
     },
     "metadata": {},
     "output_type": "display_data"
    }
   ],
   "source": [
    "options(repr.plot.width=8, repr.plot.height=4)\n",
    "par(mfrow = c(1,3))\n",
    "hist(Y[,1], main = \"Sample size 1\", xlab = \"Proportion\")\n",
    "hist(Y[,10], main = \"Sample size 10\", xlab = \"Proportion\")\n",
    "hist(Y[, 1000], main = \"Sample size 1000\", xlab = \"Proportion\")"
   ]
  },
  {
   "cell_type": "code",
   "execution_count": null,
   "metadata": {
    "collapsed": true
   },
   "outputs": [],
   "source": []
  }
 ],
 "metadata": {
  "kernelspec": {
   "display_name": "R",
   "language": "R",
   "name": "ir"
  },
  "language_info": {
   "codemirror_mode": "r",
   "file_extension": ".r",
   "mimetype": "text/x-r-source",
   "name": "R",
   "pygments_lexer": "r",
   "version": "3.4.2"
  }
 },
 "nbformat": 4,
 "nbformat_minor": 2
}
