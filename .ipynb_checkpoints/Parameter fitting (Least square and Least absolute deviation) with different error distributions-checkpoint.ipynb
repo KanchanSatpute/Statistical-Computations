{
 "cells": [
  {
   "cell_type": "markdown",
   "metadata": {},
   "source": [
    "# \n",
    "\n",
    "We numerically explore the relationship between error distributions, objective functions (least squares versus least absolute deviation, and computational speed.\n",
    "\n",
    "The following simulation creates a data set according to\n",
    "$$y_i = \\beta_1 + \\beta_2 x_i + \\beta_3 x_i^2 + \\epsilon_i.$$\n",
    "\n",
    "We generate $n$ observations from this model for $x$ on an equally spaced grid $[0,1]$. For $Yt$, the errors ($\\epsilon_i$) have a t-distribution with 2 degrees of freedom. For $Yn$, the errors have a standard normal distribution. We plot each of these data sets and the true regression function."
   ]
  },
  {
   "cell_type": "code",
   "execution_count": 1,
   "metadata": {
    "collapsed": true
   },
   "outputs": [],
   "source": [
    "set.seed(1234)\n",
    "n <- 500\n",
    "x <- seq(from=0,to=1,length.out=n)\n",
    "X <- cbind(1,x,x^2)\n",
    "beta <- matrix(c(1,2,4),nrow=3)\n",
    "Yt <- X%*%beta + rt(n,df=2)\n",
    "Yn <- X%*%beta + rnorm(n)"
   ]
  },
  {
   "cell_type": "code",
   "execution_count": 2,
   "metadata": {},
   "outputs": [
    {
     "data": {
      "image/png": "[encoded data removed]",
      "text/plain": [
       "Plot with title \"normal errors\""
      ]
     },
     "metadata": {},
     "output_type": "display_data"
    }
   ],
   "source": [
    "options(repr.plot.width=7.5,repr.plot.height=3.5)\n",
    "par(mar=c(4,4,1,1),mfcol=c(1,2))\n",
    "ylim <- c(-5,10)\n",
    "plot(X[,2],Yt,xlab=\"x\",ylab=\"y\",main=\"t errors\",ylim=ylim)\n",
    "points(X[,2],X%*%beta,type='l',col='red',lwd=2)\n",
    "plot(X[,2],Yn,xlab=\"x\",ylab=\"y\",main=\"normal errors\",ylim=ylim)\n",
    "points(X[,2],X%*%beta,type='l',col='red',lwd=2)"
   ]
  },
  {
   "cell_type": "markdown",
   "metadata": {},
   "source": [
    "The t distribution produces a lot of outliers (some outliers are not shown because we restricted the y-axis to ylim in each plot). Given the data, out goal is to infer the parameters $\\beta$. We will consider two methods. The least squares method we discussed in class is\n",
    "$$ \\beta_{LS} = \\text{argmin}_{\\beta} (y_i - \\beta_1 - \\beta_2 x_i - \\beta_3 x_i^2)^2 =  \\text{argmin}_{\\beta} (Y - X\\beta)^T(Y - X\\beta) = (X^TX)^{-1}X^TY$$\n",
    "A second possibility is to find the [least absolute deviations](https://en.wikipedia.org/wiki/Least_absolute_deviations) estimator. We call this $\\beta_{LAD}$ which has the form\n",
    "$$\\beta_{LAD} = \\text{argmin}_{\\beta} |y_i - \\beta_1 - \\beta_2 x_i - \\beta_3 x_i^2|.$$\n",
    "This may also be known as $L_1$ regression or quantile regression with the $0.5$ quantile.\n",
    "\n",
    "In this homework you will fit both $\\beta_{LS}$ and $\\beta_{LAD}$ and compare the methods based on parameter estimation accuracy and speed."
   ]
  },
  {
   "cell_type": "markdown",
   "metadata": {},
   "source": [
    "## Question 1\n",
    "\n",
    "Fixing $X$, generate the $Yt$ and $Yn$ data $N=100$ times (note that $n$ is the sample size and $N$ is the number of times we run the simulation). Compute $\\beta_{LS}$ and $\\beta_{LAD}$ each time. Since $\\beta$ is a vector of length $3$, this will result in 4 matrices (LS for $Yt$ and $Yn$ and LAD for $Yt$ and $Yn$) with $N$ rows and 3 columns (you could store this output in other formats as well, but matrices are convenient).\n",
    "\n",
    "Make scatterplots of $\\beta_2$ versus $\\beta_3$ estimates for each type of data, estimator. This will produce four scatterplots. Mark the true $\\beta_2$ and $\\beta_3$ on each plot and comment of the quality of the estimators in the different settings. You scatterplot should look similar to the ones below.\n",
    "\n",
    "**Tips for Fitting** For fitting $\\beta_{LS}$, you have many options in R (lm, lm.fit) and python (scipy.linalg.lstsq, sklearn.linear_model.LinearRegression). For fitting $\\beta_{LAD}$ in R you can use l1fit from the package L1pack or  rq.fit from quantreg. For fitting $\\beta_{LAD}$ in python the options are somewhat more limited:\n",
    "* [statsmodels](http://www.statsmodels.org/dev/examples/notebooks/generated/quantile_regression.html) requires use of pandas, calls the quantreg R package\n",
    "* generic optimizer such as [scipy.optimize](https://docs.scipy.org/doc/scipy/reference/tutorial/optimize.html)\n",
    "\n",
    "The later is a more general method that will likely be slower. But scipy.optimize is general and will be useful for many other problems. You may also use any other optimizer you find. "
   ]
  },
  {
   "cell_type": "code",
   "execution_count": 3,
   "metadata": {},
   "outputs": [
    {
     "name": "stderr",
     "output_type": "stream",
     "text": [
      "Installing package into 'C:/Users/Kanchan/Documents/R/win-library/3.4'\n",
      "(as 'lib' is unspecified)\n"
     ]
    },
    {
     "name": "stdout",
     "output_type": "stream",
     "text": [
      "package 'matlib' successfully unpacked and MD5 sums checked\n",
      "\n",
      "The downloaded binary packages are in\n",
      "\tC:\\Users\\Kanchan\\AppData\\Local\\Temp\\Rtmp04U1sr\\downloaded_packages\n"
     ]
    }
   ],
   "source": [
    "install.packages('matlib', repos = 'https://cran.r-project.org')"
   ]
  },
  {
   "cell_type": "code",
   "execution_count": 4,
   "metadata": {},
   "outputs": [
    {
     "name": "stderr",
     "output_type": "stream",
     "text": [
      "Installing package into 'C:/Users/Kanchan/Documents/R/win-library/3.4'\n",
      "(as 'lib' is unspecified)\n"
     ]
    },
    {
     "name": "stdout",
     "output_type": "stream",
     "text": [
      "package 'L1pack' successfully unpacked and MD5 sums checked\n",
      "\n",
      "The downloaded binary packages are in\n",
      "\tC:\\Users\\Kanchan\\AppData\\Local\\Temp\\Rtmp04U1sr\\downloaded_packages\n"
     ]
    }
   ],
   "source": [
    "install.packages('L1pack', repos = 'https://cran.r-project.org')"
   ]
  },
  {
   "cell_type": "code",
   "execution_count": 5,
   "metadata": {
    "scrolled": false
   },
   "outputs": [
    {
     "name": "stderr",
     "output_type": "stream",
     "text": [
      "Warning message:\n",
      "\"package 'matlib' was built under R version 3.4.3\""
     ]
    }
   ],
   "source": [
    "library(matlib)\n",
    "library(L1pack)\n",
    "N = 100\n",
    "Xtrans = t(X)\n",
    "M = Xtrans%*%X\n",
    "X1 = cbind(x,x^2) ##required for l1fit\n",
    "Y_t = matrix(0, nrow = n, ncol = N)\n",
    "Y_n = matrix(0, nrow = n, ncol = N)\n",
    "ls_yt = matrix(0, nrow = N, ncol = 3)\n",
    "ls_yn = matrix(0, nrow = N, ncol = 3)\n",
    "lad_yt = matrix(0, nrow = N, ncol = 3)\n",
    "lad_yn = matrix(0, nrow = N, ncol = 3)\n",
    "##Computing least square estimates by directly using the formula for beta = (inv(X'X)*X'*Y)\n",
    "##Computing least absolute deviations by using l1fit from package L1pack\n",
    "for (i in 1:N)\n",
    "    {\n",
    "    Y_t[, i] = X%*%beta + rt(n,df=2)\n",
    "    ls_yt[i, ] = (inv(M))%*%Xtrans%*%Y_t[, i]\n",
    "    Y_n[, i] = X%*%beta + rnorm(n)\n",
    "    ls_yn[i, ] = (inv(M))%*%Xtrans%*%Y_n[, i]\n",
    "    lad1 = l1fit(X1, Y_t[, i])\n",
    "    lad_yt[i, ] = lad1$coefficients\n",
    "    lad2 = l1fit(X1, Y_n[, i])\n",
    "    lad_yn[i, ] = lad2$coefficients\n",
    "}"
   ]
  },
  {
   "cell_type": "code",
   "execution_count": 6,
   "metadata": {
    "scrolled": true
   },
   "outputs": [
    {
     "data": {
      "image/png": "[encoded data removed]",
      "text/plain": [
       "Plot with title \"LAD - t errors\""
      ]
     },
     "metadata": {},
     "output_type": "display_data"
    },
    {
     "data": {
      "image/png": "[encoded data removed]",
      "text/plain": [
       "Plot with title \"LAD - normal errors\""
      ]
     },
     "metadata": {},
     "output_type": "display_data"
    }
   ],
   "source": [
    "par(mar=c(4,4,1,1),mfcol=c(1,2))\n",
    "plot(ls_yt[,2],ls_yt[,3],xlab=\"B2\",ylab=\"B3\",main=\"LS - t errors\")\n",
    "points(2, 4,type='p',col='red', cex= 1.5, pch=19)\n",
    "plot(lad_yt[,2],lad_yt[,3],xlab=\"B2\",ylab=\"B3\",main=\"LAD - t errors\")\n",
    "points(2, 4,type='p',col='red', cex= 1.5, pch=19)\n",
    "plot(ls_yn[,2],ls_yn[,3],xlab=\"B2\",ylab=\"B3\",main=\"LS-normal errors\")\n",
    "points(2, 4,type='p',col='red', cex= 1.5, pch=19)\n",
    "plot(lad_yn[,2],lad_yn[,3],xlab=\"B2\",ylab=\"B3\",main=\"LAD - normal errors\")\n",
    "points(2, 4,type='p',col='red', cex= 1.5, pch=19)"
   ]
  },
  {
   "cell_type": "markdown",
   "metadata": {},
   "source": [
    "(requires internet connection to view)\n",
    "\n",
    "<img src=\"https://longjp.github.io/statcomp/hw/betaT.png\">"
   ]
  },
  {
   "cell_type": "markdown",
   "metadata": {},
   "source": [
    "(requires internet connection to view)\n",
    "\n",
    "<img src=\"https://longjp.github.io/statcomp/hw/betaNorm.png\">"
   ]
  },
  {
   "cell_type": "markdown",
   "metadata": {},
   "source": [
    "## Question 2\n",
    "\n",
    "Compare the speed of $\\beta_{LS}$ to $\\beta_{LAD}$ using a package such as benchmark in R or some of the tools [here](https://jakevdp.github.io/PythonDataScienceHandbook/01.07-timing-and-profiling.html) in python. Empirically determine the computational complexity (in $n$) of $\\beta_{LAD}$ and $\\beta_{LS}$ (we know from theoretical analysis that $\\widehat{\\beta}_{LS}$ should be linear in $n$)."
   ]
  },
  {
   "cell_type": "code",
   "execution_count": 7,
   "metadata": {},
   "outputs": [
    {
     "name": "stderr",
     "output_type": "stream",
     "text": [
      "Installing package into 'C:/Users/Kanchan/Documents/R/win-library/3.4'\n",
      "(as 'lib' is unspecified)\n"
     ]
    },
    {
     "name": "stdout",
     "output_type": "stream",
     "text": [
      "package 'rbenchmark' successfully unpacked and MD5 sums checked\n",
      "\n",
      "The downloaded binary packages are in\n",
      "\tC:\\Users\\Kanchan\\AppData\\Local\\Temp\\Rtmp04U1sr\\downloaded_packages\n"
     ]
    }
   ],
   "source": [
    "install.packages('rbenchmark', repos = 'https://cran.r-project.org')"
   ]
  },
  {
   "cell_type": "code",
   "execution_count": 8,
   "metadata": {},
   "outputs": [
    {
     "data": {
      "text/html": [
       "<table>\n",
       "<thead><tr><th></th><th scope=col>test</th><th scope=col>elapsed</th><th scope=col>relative</th></tr></thead>\n",
       "<tbody>\n",
       "\t<tr><th scope=row>4</th><td>Least absolute deviation - n dist</td><td> 6.39                            </td><td>1.051                            </td></tr>\n",
       "\t<tr><th scope=row>3</th><td>Least absolute deviation - t dist</td><td> 6.08                            </td><td>1.000                            </td></tr>\n",
       "\t<tr><th scope=row>2</th><td>Least square estimation - n dist </td><td>10.27                            </td><td>1.689                            </td></tr>\n",
       "\t<tr><th scope=row>1</th><td>Least square estimation - t dist </td><td>11.61                            </td><td>1.910                            </td></tr>\n",
       "</tbody>\n",
       "</table>\n"
      ],
      "text/latex": [
       "\\begin{tabular}{r|lll}\n",
       "  & test & elapsed & relative\\\\\n",
       "\\hline\n",
       "\t4 & Least absolute deviation - n dist &  6.39                             & 1.051                            \\\\\n",
       "\t3 & Least absolute deviation - t dist &  6.08                             & 1.000                            \\\\\n",
       "\t2 & Least square estimation - n dist  & 10.27                             & 1.689                            \\\\\n",
       "\t1 & Least square estimation - t dist  & 11.61                             & 1.910                            \\\\\n",
       "\\end{tabular}\n"
      ],
      "text/markdown": [
       "\n",
       "| <!--/--> | test | elapsed | relative | \n",
       "|---|---|---|---|\n",
       "| 4 | Least absolute deviation - n dist |  6.39                             | 1.051                             | \n",
       "| 3 | Least absolute deviation - t dist |  6.08                             | 1.000                             | \n",
       "| 2 | Least square estimation - n dist  | 10.27                             | 1.689                             | \n",
       "| 1 | Least square estimation - t dist  | 11.61                             | 1.910                             | \n",
       "\n",
       "\n"
      ],
      "text/plain": [
       "  test                              elapsed relative\n",
       "4 Least absolute deviation - n dist  6.39   1.051   \n",
       "3 Least absolute deviation - t dist  6.08   1.000   \n",
       "2 Least square estimation - n dist  10.27   1.689   \n",
       "1 Least square estimation - t dist  11.61   1.910   "
      ]
     },
     "metadata": {},
     "output_type": "display_data"
    }
   ],
   "source": [
    "library(rbenchmark)\n",
    "benchmark( \"Least square estimation - t dist\" = { for (i in 1:N)\n",
    "                            {Y_t[, i] = X%*%beta + rt(n,df=2)\n",
    "                             ls_yt[i, ] = (inv(M))%*%Xtrans%*%Y_t[, i] }\n",
    "                       },\n",
    "           \"Least square estimation - n dist\" = { for (i in 1:N)\n",
    "                            {Y_n[, i] = X%*%beta + rnorm(n)\n",
    "                            ls_yn[i, ] = (inv(M))%*%Xtrans%*%Y_n[, i] }\n",
    "                       },\n",
    "           \"Least absolute deviation - t dist\" = { for (i in 1:N)\n",
    "                             {lad1 = l1fit(X1, Y_t[, i])\n",
    "                              lad_yt[i, ] = lad1$coefficients}\n",
    "                       },\n",
    "           \"Least absolute deviation - n dist\" = { for (i in 1:N)\n",
    "                             {lad2 = l1fit(X1, Y_n[, i])\n",
    "                              lad_yn[i, ] = lad2$coefficients}\n",
    "                       },\n",
    "          columns = c(\"test\", \"elapsed\", \"relative\")\n",
    "    \n",
    "  )  "
   ]
  }
 ],
 "metadata": {
  "kernelspec": {
   "display_name": "R",
   "language": "R",
   "name": "ir"
  },
  "language_info": {
   "codemirror_mode": "r",
   "file_extension": ".r",
   "mimetype": "text/x-r-source",
   "name": "R",
   "pygments_lexer": "r",
   "version": "3.4.2"
  }
 },
 "nbformat": 4,
 "nbformat_minor": 1
}
